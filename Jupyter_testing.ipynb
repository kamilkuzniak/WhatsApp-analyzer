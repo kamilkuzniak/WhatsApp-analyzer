{
 "cells": [
  {
   "cell_type": "code",
   "execution_count": 37,
   "metadata": {},
   "outputs": [],
   "source": [
    "import pandas as pd\n",
    "import datetime\n",
    "import time"
   ]
  },
  {
   "cell_type": "code",
   "execution_count": 184,
   "metadata": {},
   "outputs": [],
   "source": [
    "with open('WhatsApp Chat with Sara.txt', 'r') as chat:\n",
    "    messages = chat.readlines()"
   ]
  },
  {
   "cell_type": "code",
   "execution_count": 187,
   "metadata": {},
   "outputs": [
    {
     "data": {
      "text/html": [
       "<div>\n",
       "<style scoped>\n",
       "    .dataframe tbody tr th:only-of-type {\n",
       "        vertical-align: middle;\n",
       "    }\n",
       "\n",
       "    .dataframe tbody tr th {\n",
       "        vertical-align: top;\n",
       "    }\n",
       "\n",
       "    .dataframe thead th {\n",
       "        text-align: right;\n",
       "    }\n",
       "</style>\n",
       "<table border=\"1\" class=\"dataframe\">\n",
       "  <thead>\n",
       "    <tr style=\"text-align: right;\">\n",
       "      <th></th>\n",
       "      <th>0</th>\n",
       "    </tr>\n",
       "  </thead>\n",
       "  <tbody>\n",
       "    <tr>\n",
       "      <th>0</th>\n",
       "      <td>2/19/19, 16:23 - Messages to this chat and cal...</td>\n",
       "    </tr>\n",
       "    <tr>\n",
       "      <th>1</th>\n",
       "      <td>2/19/19, 16:16 - Sara: Hey, polaco 😏 Is there ...</td>\n",
       "    </tr>\n",
       "    <tr>\n",
       "      <th>2</th>\n",
       "      <td>2/19/19, 16:35 - Kamil Kuźniak: I'll swing by ...</td>\n",
       "    </tr>\n",
       "    <tr>\n",
       "      <th>3</th>\n",
       "      <td>2/19/19, 16:36 - Kamil Kuźniak: In the meantim...</td>\n",
       "    </tr>\n",
       "    <tr>\n",
       "      <th>4</th>\n",
       "      <td>2/19/19, 16:36 - Sara: Only swing by? 🤔\\n</td>\n",
       "    </tr>\n",
       "  </tbody>\n",
       "</table>\n",
       "</div>"
      ],
      "text/plain": [
       "                                                   0\n",
       "0  2/19/19, 16:23 - Messages to this chat and cal...\n",
       "1  2/19/19, 16:16 - Sara: Hey, polaco 😏 Is there ...\n",
       "2  2/19/19, 16:35 - Kamil Kuźniak: I'll swing by ...\n",
       "3  2/19/19, 16:36 - Kamil Kuźniak: In the meantim...\n",
       "4          2/19/19, 16:36 - Sara: Only swing by? 🤔\\n"
      ]
     },
     "execution_count": 187,
     "metadata": {},
     "output_type": "execute_result"
    }
   ],
   "source": [
    "df = pd.DataFrame(messages)\n",
    "df.head()"
   ]
  },
  {
   "cell_type": "code",
   "execution_count": 188,
   "metadata": {},
   "outputs": [
    {
     "data": {
      "text/html": [
       "<div>\n",
       "<style scoped>\n",
       "    .dataframe tbody tr th:only-of-type {\n",
       "        vertical-align: middle;\n",
       "    }\n",
       "\n",
       "    .dataframe tbody tr th {\n",
       "        vertical-align: top;\n",
       "    }\n",
       "\n",
       "    .dataframe thead th {\n",
       "        text-align: right;\n",
       "    }\n",
       "</style>\n",
       "<table border=\"1\" class=\"dataframe\">\n",
       "  <thead>\n",
       "    <tr style=\"text-align: right;\">\n",
       "      <th></th>\n",
       "      <th>0</th>\n",
       "      <th>1</th>\n",
       "      <th>2</th>\n",
       "      <th>3</th>\n",
       "      <th>4</th>\n",
       "      <th>5</th>\n",
       "      <th>6</th>\n",
       "      <th>7</th>\n",
       "      <th>8</th>\n",
       "    </tr>\n",
       "  </thead>\n",
       "  <tbody>\n",
       "    <tr>\n",
       "      <th>0</th>\n",
       "      <td>2019</td>\n",
       "      <td>2</td>\n",
       "      <td>19</td>\n",
       "      <td>16</td>\n",
       "      <td>23</td>\n",
       "      <td>0</td>\n",
       "      <td>1</td>\n",
       "      <td>50</td>\n",
       "      <td>-1</td>\n",
       "    </tr>\n",
       "    <tr>\n",
       "      <th>1</th>\n",
       "      <td>2019</td>\n",
       "      <td>2</td>\n",
       "      <td>19</td>\n",
       "      <td>16</td>\n",
       "      <td>16</td>\n",
       "      <td>0</td>\n",
       "      <td>1</td>\n",
       "      <td>50</td>\n",
       "      <td>-1</td>\n",
       "    </tr>\n",
       "    <tr>\n",
       "      <th>2</th>\n",
       "      <td>2019</td>\n",
       "      <td>2</td>\n",
       "      <td>19</td>\n",
       "      <td>16</td>\n",
       "      <td>35</td>\n",
       "      <td>0</td>\n",
       "      <td>1</td>\n",
       "      <td>50</td>\n",
       "      <td>-1</td>\n",
       "    </tr>\n",
       "    <tr>\n",
       "      <th>3</th>\n",
       "      <td>2019</td>\n",
       "      <td>2</td>\n",
       "      <td>19</td>\n",
       "      <td>16</td>\n",
       "      <td>36</td>\n",
       "      <td>0</td>\n",
       "      <td>1</td>\n",
       "      <td>50</td>\n",
       "      <td>-1</td>\n",
       "    </tr>\n",
       "    <tr>\n",
       "      <th>4</th>\n",
       "      <td>2019</td>\n",
       "      <td>2</td>\n",
       "      <td>19</td>\n",
       "      <td>16</td>\n",
       "      <td>36</td>\n",
       "      <td>0</td>\n",
       "      <td>1</td>\n",
       "      <td>50</td>\n",
       "      <td>-1</td>\n",
       "    </tr>\n",
       "  </tbody>\n",
       "</table>\n",
       "</div>"
      ],
      "text/plain": [
       "      0  1   2   3   4  5  6   7  8\n",
       "0  2019  2  19  16  23  0  1  50 -1\n",
       "1  2019  2  19  16  16  0  1  50 -1\n",
       "2  2019  2  19  16  35  0  1  50 -1\n",
       "3  2019  2  19  16  36  0  1  50 -1\n",
       "4  2019  2  19  16  36  0  1  50 -1"
      ]
     },
     "execution_count": 188,
     "metadata": {},
     "output_type": "execute_result"
    }
   ],
   "source": [
    "df = pd.DataFrame(dates)\n",
    "df.head()"
   ]
  },
  {
   "cell_type": "code",
   "execution_count": 138,
   "metadata": {},
   "outputs": [
    {
     "data": {
      "text/plain": [
       "'4/2/19, 13:07 - Sara: Hey people! know it’s soon but I send the message now because I know myself and I can forget hahaha\\n This evening at 8:15/8:20 in the main entrance of Home Groningen? Cris and I will arrive at that time I think. We are going to be around 10 people, so I have though to go to the common room (or any suggestion?) and eat and talk there until whenever you want. It’s not obligatory to bring food or anything although it’s dinner time, so probably we can have dinner there (or sort of, because bread and carrot are not enough xD). For the ones who are arriving late, send me a message and I answer you in a matter of seconds. It’s not a birthday party or something like that, just a random meeting so don’t feel bad if you arrive late or don’t feel under pressure if you haven’t bought anything. The important thing is to be together (and drink, of course) hahaha See you there ;D\\n'"
      ]
     },
     "execution_count": 138,
     "metadata": {},
     "output_type": "execute_result"
    }
   ],
   "source": [
    "df.loc[768,0]"
   ]
  },
  {
   "cell_type": "code",
   "execution_count": 16,
   "metadata": {},
   "outputs": [],
   "source": [
    "#split the date from the message\n",
    "#Turn in into a datetime object\n",
    "#if it's not possible than error handle: \n",
    "#add the content to the previous entry and pop it from the list"
   ]
  },
  {
   "cell_type": "code",
   "execution_count": 180,
   "metadata": {},
   "outputs": [
    {
     "name": "stdout",
     "output_type": "stream",
     "text": [
      "4/1/19 10:31 \n",
      "4/1/19 10:31\n",
      "time.struct_time(tm_year=2019, tm_mon=4, tm_mday=1, tm_hour=10, tm_min=31, tm_sec=0, tm_wday=0, tm_yday=91, tm_isdst=-1)\n"
     ]
    }
   ],
   "source": [
    "text = '4/1/19, 10:31 - Sara: Hey!'\n",
    "text1 = text.split('-')[0].split(',')[0] + text.split('-')[0].split(',')[1]\n",
    "text2 = '4/1/19 10:31'\n",
    "print(text1)\n",
    "print(text2)\n",
    "data_czas = time.strptime(text1.split(',')[0], '%m/%d/%y %H:%M ')\n",
    "print(data_czas)"
   ]
  },
  {
   "cell_type": "code",
   "execution_count": 161,
   "metadata": {},
   "outputs": [
    {
     "name": "stdout",
     "output_type": "stream",
     "text": [
      "2/19/19, 16:16 - Sara: Hey, polaco 😏 Is there finally a plan for today?\n",
      "\n",
      "time.struct_time(tm_year=2019, tm_mon=2, tm_mday=19, tm_hour=0, tm_min=0, tm_sec=0, tm_wday=1, tm_yday=50, tm_isdst=-1)\n",
      "time.struct_time(tm_year=1900, tm_mon=1, tm_mday=1, tm_hour=16, tm_min=16, tm_sec=0, tm_wday=0, tm_yday=1, tm_isdst=-1)\n"
     ]
    }
   ],
   "source": [
    "#messages[1].split('-')[0]\n",
    "data = time.strptime(messages[1].split(',')[0], '%m/%d/%y')\n",
    "czas = time.strptime(messages[1].split('-')[0].split()[1], '%H:%M')\n",
    "print(messages[1])\n",
    "print(data)\n",
    "print(czas)"
   ]
  },
  {
   "cell_type": "code",
   "execution_count": 59,
   "metadata": {},
   "outputs": [
    {
     "data": {
      "text/plain": [
       "\"2/19/19, 16:16 - Sara: Hey, polaco 😏 Is there finally a plan for today?\\n 2/19/19, 16:35 - Kamil Kuźniak: I'll swing by in the evening 😈\\n\""
      ]
     },
     "execution_count": 59,
     "metadata": {},
     "output_type": "execute_result"
    }
   ],
   "source": [
    "messages[1] + ' ' + messages.pop(2)"
   ]
  },
  {
   "cell_type": "code",
   "execution_count": 185,
   "metadata": {},
   "outputs": [],
   "source": [
    "#error handling when the date is not present\n",
    "dates = []\n",
    "content = []\n",
    "person = []\n",
    "\n",
    "for i in range(len(messages)): \n",
    "    try:\n",
    "        dates.append(time.strptime(messages[i].split('-')[0].split(',')[0] + messages[i].split('-')[0].split(',')[1], '%m/%d/%y %H:%M '))\n",
    "    except:\n",
    "        messages[i-1] += (' ' + messages[i])\n",
    "        messages[i] = 'NaN'\n",
    "        \n",
    "for message in messages:\n",
    "    if message == 'NaN':\n",
    "        messages.remove(message)"
   ]
  },
  {
   "cell_type": "code",
   "execution_count": 70,
   "metadata": {},
   "outputs": [
    {
     "name": "stdout",
     "output_type": "stream",
     "text": [
      "Error\n"
     ]
    }
   ],
   "source": [
    "try:\n",
    "    dates.append(time.strptime('This evening at 8:15/8:20 in the main entrance of Home Groningen? Cris and I will arrive at that time I think.'.split(',')[0], '%m/%d/%y'))\n",
    "except ValueError:\n",
    "    print('Error')"
   ]
  },
  {
   "cell_type": "code",
   "execution_count": 186,
   "metadata": {},
   "outputs": [
    {
     "name": "stdout",
     "output_type": "stream",
     "text": [
      "39232\n",
      "39138\n",
      "time.struct_time(tm_year=2019, tm_mon=2, tm_mday=19, tm_hour=16, tm_min=23, tm_sec=0, tm_wday=1, tm_yday=50, tm_isdst=-1)\n"
     ]
    }
   ],
   "source": [
    "print(len(messages))\n",
    "print(len(dates))\n",
    "print(dates[0])"
   ]
  }
 ],
 "metadata": {
  "kernelspec": {
   "display_name": "Python 3",
   "language": "python",
   "name": "python3"
  },
  "language_info": {
   "codemirror_mode": {
    "name": "ipython",
    "version": 3
   },
   "file_extension": ".py",
   "mimetype": "text/x-python",
   "name": "python",
   "nbconvert_exporter": "python",
   "pygments_lexer": "ipython3",
   "version": "3.7.3"
  }
 },
 "nbformat": 4,
 "nbformat_minor": 2
}
